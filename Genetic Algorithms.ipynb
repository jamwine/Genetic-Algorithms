{
 "cells": [
  {
   "cell_type": "markdown",
   "metadata": {},
   "source": [
    "## Introduction to Genetic Algorithms\n",
    "\n",
    "### Evolutionary Algorithms\n",
    "A type of machine learning that uses principles from nature to evolve a solution. Optimization is performed using evolutionary algorithms (EAs). The difference between traditional algorithms and EAs is that EAs are not static but dynamic as they can evolve over time.\n",
    "\n",
    "The genetic algorithm is a random-based classical evolutionary algorithm. By random here we mean that in order to find a solution using the GA, random changes applied to the current solutions to generate new ones. Note that GA may be called Simple GA (SGA) due to its simplicity compared to other EAs. GA is based on Darwin’s theory of evolution. It is a slow gradual process that works by making changes to the making slight and slow changes. Also, GA makes slight changes to its solutions slowly until getting the best solution.\n",
    "\n",
    "To summarize, the first step is to **generate a random population** of candidate solutions with each solution being a collection of data. The specifics of the representation of that data depends on the problem. After **defining an initial population** of randomly generated candidate solutions, the next step is to **evaluate the fitness** for each candidate in our population. That evaluation is specific to the particular problem we're trying to solve, but it always involves using the candidate data, and it always results in a numeric fitness score for each candidate. Based on those fitness scores we **select parent solutions** with generally higher fitness values, and then **crossover genetic information** from each to form child solutions. Those child solutions may undergo a **mutation**, and then the children form the next generation of the population. This process is repeated until after a certain number of generations that candidate with the best fitness is chosen as the ultimate solution to the problem.\n",
    "\n",
    "![ga.png](imgs\\ga.png)\n",
    "\n",
    "One of the important ideas in evolutionary computing is the **solutions space**. The solution space is a set of all possible solutions to a given problem. **NP-hard** or **non-deterministic polynomial-time hardness** problems refers to a class of problems that are difficult to find a solution for. Non-deterministic means that for any given attempt to solve a problem, we may end up with a different solution due to a strong element of randomness in evolutionary computing. The polynomial-time part of it refers to measuring how long it takes to find a solution. **Combinatorial optimization** is a technique of finding an optimal combination of a given set of objects where an exhaustive search is not feasible. \n",
    "\n",
    "### Applications \n",
    "The genetic algorithm are effective in finding the optimal solutions, for example, finding an optimal subset of items to fit within a constrained area, optimally packing containers, resources allocation, shipping or dispatching, optimal ordering of data (where the number of possible permutations makes a brute-force approach impossible), optimal time manufacturing or scheduling. The genetic programming helps us in finding an equation to fit a set of data, to control a process, to control the movement of an object in space, to select stocks or investments, to generate keys for different types of cryptography, to create a strategy for picking a good starting hand for Texas Hold'em Poker, etc. "
   ]
  },
  {
   "cell_type": "markdown",
   "metadata": {},
   "source": [
    "### Generating a target string starting from a random string of the same length"
   ]
  },
  {
   "cell_type": "code",
   "execution_count": 1,
   "metadata": {},
   "outputs": [],
   "source": [
    "import random\n",
    "import datetime"
   ]
  },
  {
   "cell_type": "code",
   "execution_count": 2,
   "metadata": {},
   "outputs": [],
   "source": [
    "# return a random string of the specified length\n",
    "def generate_parent(length):\n",
    "    genes = []\n",
    "    while len(genes) < length:\n",
    "        sampleSize = min(length - len(genes), len(geneSet))\n",
    "        genes.extend(random.sample(geneSet, sampleSize))\n",
    "    return ''.join(genes)\n",
    "\n",
    "# returns the fitness score of the guessed string\n",
    "def get_fitness(guess):\n",
    "    return sum(1 for expected, actual in zip(target, guess) if expected == actual)\n",
    "\n",
    "# Changing a character in the parent string at random index \n",
    "def mutate(parent):\n",
    "    index = random.randrange(0, len(parent))\n",
    "    childGenes = list(parent)\n",
    "    newGene, alternate = random.sample(geneSet, 2)\n",
    "    childGenes[index] = alternate if newGene == childGenes[index] else newGene\n",
    "    return ''.join(childGenes)\n",
    "\n",
    "def display(guess,startTime):\n",
    "    timeDiff = (datetime.datetime.now() - startTime).microseconds\n",
    "    fitness = get_fitness(guess)\n",
    "    print(\"Guess: {}\\tFitness Score: {}\\tTime Taken (µs): {}\".format(guess, fitness, timeDiff))"
   ]
  },
  {
   "cell_type": "code",
   "execution_count": 3,
   "metadata": {},
   "outputs": [],
   "source": [
    "def predict_output(geneSet,target):\n",
    "    \n",
    "    # Initial Run\n",
    "    startTime = datetime.datetime.now()\n",
    "    bestParent = generate_parent(len(target))\n",
    "    bestFitness = get_fitness(bestParent)\n",
    "    display(bestParent,startTime)\n",
    "\n",
    "    # Stopping when the guess matches result\n",
    "    i=0 # Counting total iterations\n",
    "    while True:\n",
    "        i+=1\n",
    "        child = mutate(bestParent)\n",
    "        childFitness = get_fitness(child)\n",
    "        if bestFitness >= childFitness:\n",
    "            continue\n",
    "        display(child,startTime)\n",
    "        if childFitness >= len(bestParent):\n",
    "            break\n",
    "        bestFitness = childFitness\n",
    "        bestParent = child\n",
    "\n",
    "    possibilities=len(set(geneSet))**len(target)\n",
    "\n",
    "    print(f'\\nTotal Possibilities: {possibilities}')\n",
    "    print(f'Total iterations: {i}')\n",
    "    print(f'Optimization over large space state: {round(((possibilities-i)/possibilities)*100,2)}%')"
   ]
  },
  {
   "cell_type": "code",
   "execution_count": 4,
   "metadata": {},
   "outputs": [
    {
     "name": "stdout",
     "output_type": "stream",
     "text": [
      "Guess: 1010100101\tFitness Score: 5\tTime Taken (µs): 0\n",
      "Guess: 1110100101\tFitness Score: 6\tTime Taken (µs): 0\n",
      "Guess: 1110101101\tFitness Score: 7\tTime Taken (µs): 0\n",
      "Guess: 1111101101\tFitness Score: 8\tTime Taken (µs): 0\n",
      "Guess: 1111101111\tFitness Score: 9\tTime Taken (µs): 0\n",
      "Guess: 1111111111\tFitness Score: 10\tTime Taken (µs): 997\n",
      "\n",
      "Total Possibilities: 1024\n",
      "Total iterations: 48\n",
      "Optimization over large space state: 95.31%\n"
     ]
    }
   ],
   "source": [
    "geneSet = \"01\"\n",
    "target = \"1111111111\"\n",
    "\n",
    "predict_output(geneSet,target)"
   ]
  },
  {
   "cell_type": "code",
   "execution_count": 5,
   "metadata": {},
   "outputs": [
    {
     "name": "stdout",
     "output_type": "stream",
     "text": [
      "Guess: .k!ShsLyWvDfAHxzGZ\tFitness Score: 0\tTime Taken (µs): 0\n",
      "Guess: .k!ShsLyWvDfAHxzmZ\tFitness Score: 1\tTime Taken (µs): 0\n",
      "Guess: .k!ShsLyWvDfAHxhmZ\tFitness Score: 2\tTime Taken (µs): 0\n",
      "Guess: .k!ShsL WvDfAHxhmZ\tFitness Score: 3\tTime Taken (µs): 0\n",
      "Guess: .k!ehsL WvDfAHxhmZ\tFitness Score: 4\tTime Taken (µs): 0\n",
      "Guess: .e!ehsL WvDfAHxhmZ\tFitness Score: 5\tTime Taken (µs): 997\n",
      "Guess: .e!etsL WvDfAHxhmZ\tFitness Score: 6\tTime Taken (µs): 997\n",
      "Guess: .e!etsL WvDfAHthmZ\tFitness Score: 7\tTime Taken (µs): 1994\n",
      "Guess: .enetsL WvDfAHthmZ\tFitness Score: 8\tTime Taken (µs): 1994\n",
      "Guess: .enetiL WvDfAHthmZ\tFitness Score: 9\tTime Taken (µs): 2992\n",
      "Guess: .enetiL AvDfAHthmZ\tFitness Score: 10\tTime Taken (µs): 3991\n",
      "Guess: .enetiL AvgfAHthmZ\tFitness Score: 11\tTime Taken (µs): 6019\n",
      "Guess: .enetiL AlgfAHthmZ\tFitness Score: 12\tTime Taken (µs): 6019\n",
      "Guess: .enetic AlgfAHthmZ\tFitness Score: 13\tTime Taken (µs): 7016\n",
      "Guess: .enetic AlgfrHthmZ\tFitness Score: 14\tTime Taken (µs): 7016\n",
      "Guess: .enetic AlgorHthmZ\tFitness Score: 15\tTime Taken (µs): 7016\n",
      "Guess: .enetic AlgorithmZ\tFitness Score: 16\tTime Taken (µs): 12999\n",
      "Guess: .enetic Algorithms\tFitness Score: 17\tTime Taken (µs): 17988\n",
      "Guess: Genetic Algorithms\tFitness Score: 18\tTime Taken (µs): 28957\n",
      "\n",
      "Total Possibilities: 21209401372879911350250244140625\n",
      "Total iterations: 4440\n",
      "Optimization over large space state: 100.0%\n"
     ]
    }
   ],
   "source": [
    "geneSet = \" abcdefghijklmnopqrstuvwxyzABCDEFGHIJKLMNOPQRSTUVWXYZ!.\"\n",
    "target = \"Genetic Algorithms\"\n",
    "\n",
    "predict_output(geneSet,target)"
   ]
  },
  {
   "cell_type": "code",
   "execution_count": null,
   "metadata": {},
   "outputs": [],
   "source": []
  },
  {
   "cell_type": "code",
   "execution_count": null,
   "metadata": {},
   "outputs": [],
   "source": []
  },
  {
   "cell_type": "code",
   "execution_count": null,
   "metadata": {},
   "outputs": [],
   "source": []
  }
 ],
 "metadata": {
  "kernelspec": {
   "display_name": "Python 3",
   "language": "python",
   "name": "python3"
  },
  "language_info": {
   "codemirror_mode": {
    "name": "ipython",
    "version": 3
   },
   "file_extension": ".py",
   "mimetype": "text/x-python",
   "name": "python",
   "nbconvert_exporter": "python",
   "pygments_lexer": "ipython3",
   "version": "3.7.3"
  }
 },
 "nbformat": 4,
 "nbformat_minor": 4
}
