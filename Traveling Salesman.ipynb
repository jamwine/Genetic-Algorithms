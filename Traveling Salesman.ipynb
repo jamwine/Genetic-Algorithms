{
 "cells": [
  {
   "cell_type": "markdown",
   "metadata": {},
   "source": [
    "# Traveling Salesman Problem (TSP)"
   ]
  },
  {
   "cell_type": "code",
   "execution_count": null,
   "metadata": {},
   "outputs": [],
   "source": [
    "import numpy as np\n",
    "import matplotlib.pyplot as plt\n",
    "%matplotlib inline\n",
    "import matplotlib\n",
    "from copy import copy\n",
    "import matplotlib.image as mpimg\n",
    "from matplotlib import animation\n",
    "from IPython.display import HTML"
   ]
  },
  {
   "cell_type": "markdown",
   "metadata": {},
   "source": [
    "### Fetching and Visualizing Locations"
   ]
  },
  {
   "cell_type": "code",
   "execution_count": null,
   "metadata": {},
   "outputs": [],
   "source": [
    "def generate_locations(locations = 5):\n",
    "    coordinates = {}\n",
    "    for ix in range(locations):\n",
    "        coordinates[ix] = list(np.random.uniform(-100,100,size=2))  \n",
    "    return coordinates\n",
    "\n",
    "def plot_locations(coordinates, annotate=True):\n",
    "    names = []\n",
    "    x = []\n",
    "    y = []\n",
    "    plt.figure(figsize=(16,6))\n",
    "    for ix, coord in coordinates.items():\n",
    "        names.append(ix)\n",
    "        x.append(coord[0])\n",
    "        y.append(coord[1])\n",
    "        if annotate:\n",
    "            plt.annotate(ix, xy=(coord[0], coord[1]), xytext=(20, -20),\n",
    "                        textcoords='offset points', ha='right', va='bottom',\n",
    "                        bbox=dict(boxstyle='round,pad=0.5', fc='w', alpha=0.5),\n",
    "                        arrowprops=dict(arrowstyle = '->', connectionstyle='arc3,rad=0'))\n",
    "    plt.scatter(x,y,c='r',marker='o')\n",
    "            \n",
    "def get_path(locations):\n",
    "    path = copy(locations)\n",
    "    np.random.shuffle(path)\n",
    "    path.append(path[0])\n",
    "    return list(path)\n",
    "\n",
    "def plot_path(locations, path, count, path_in_title=True):\n",
    "    plot_locations(locations)\n",
    "    for ix, loc in enumerate(path[:-1]):\n",
    "        x = [locations[path[ix]][0],locations[path[ix+1]][0]]\n",
    "        y = [locations[path[ix]][1],locations[path[ix+1]][1]]\n",
    "        plt.plot(x,y,'c--',lw=1)\n",
    "    plt.scatter(locations[path[0]][0],locations[path[0]][1], marker='x', c='b')   \n",
    "    if path_in_title:\n",
    "        plt.title(\"Current path: [%s]\"%(','.join([str(x) for x in path])))\n",
    "    else:\n",
    "        print(\"Current path: [%s]\"%(','.join([str(x) for x in path])))\n",
    "    plt.savefig(f'tsp_anim/{count}.png')\n",
    "    plt.close()"
   ]
  },
  {
   "cell_type": "markdown",
   "metadata": {},
   "source": [
    "### Genetic Functions"
   ]
  },
  {
   "cell_type": "code",
   "execution_count": null,
   "metadata": {},
   "outputs": [],
   "source": [
    "def create_generation(locations, population=100):\n",
    "    generation = [get_path(locations) for _ in range(population)]\n",
    "    return generation\n",
    "\n",
    "def distance_between_locations(l1, l2):\n",
    "    l1 = locations[l1]\n",
    "    l2 = locations[l2]\n",
    "    distance = np.sqrt((l1[0]-l2[0])**2 + (l1[1]-l2[1])**2)\n",
    "    return distance\n",
    "\n",
    "def fitness_score(path):\n",
    "    score = 0\n",
    "    for ix, loc_id in enumerate(path[:-1]):\n",
    "        score += distance_between_locations(loc_id, path[ix+1])\n",
    "    return score\n",
    "\n",
    "def check_fitness(paths):\n",
    "    fitness_indicator = []\n",
    "    for path in paths:\n",
    "        fitness_indicator.append((path, fitness_score(path)))\n",
    "    return fitness_indicator\n",
    "\n",
    "def get_parents(paths, take_best_N=10, take_random_N=5, verbose=False):\n",
    "    \n",
    "    # Getting best paths from last generation (Lower is better)\n",
    "    fit_scores = check_fitness(paths)\n",
    "    sorted_paths = sorted(fit_scores, key=lambda x: x[1])\n",
    "    new_generation = [x[0] for x in sorted_paths[:take_best_N]]\n",
    "    best_path = new_generation[0]\n",
    "    \n",
    "    if verbose:\n",
    "        print(best_path)\n",
    "        \n",
    "    # Selecting random paths\n",
    "    for _ in range(take_random_N):\n",
    "        ix = np.random.randint(len(paths))\n",
    "        new_generation.append(paths[ix])\n",
    "        \n",
    "    np.random.shuffle(new_generation)\n",
    "    return new_generation, best_path\n",
    "\n",
    "def crossover(parent1, parent2):\n",
    "    list_of_ids_for_parent1 = list(np.random.choice(parent1, replace=False, size=len(parent1)//2))\n",
    "    child = [-99 for _ in parent1]\n",
    "    \n",
    "    for ix in list_of_ids_for_parent1:\n",
    "        child[ix] = parent1[ix]\n",
    "    for ix, gene in enumerate(child):\n",
    "        if gene == -99:\n",
    "            for gene2 in parent2:\n",
    "                if gene2 not in child:\n",
    "                    child[ix] = gene2\n",
    "                    break\n",
    "    child[-1] = child[0]\n",
    "    return child\n",
    "\n",
    "def get_children(old_generation, children_per_couple=1):\n",
    "    mid_point = len(old_generation)//2\n",
    "    next_generation = [] \n",
    "    \n",
    "    for ix, parent in enumerate(old_generation[:mid_point]):\n",
    "        for _ in range(children_per_couple):\n",
    "            next_generation.append(crossover(parent, old_generation[-ix-1]))\n",
    "    return next_generation"
   ]
  },
  {
   "cell_type": "code",
   "execution_count": null,
   "metadata": {},
   "outputs": [],
   "source": [
    "def evolve_to_solve(current_generation, total_generations, select_best_N, select_random_N,\n",
    "                    children_per_couple, print_every_n_generations, verbose=False):\n",
    "    best_paths=[]\n",
    "    fitness_tracking = []\n",
    "    for i in range(total_generations):\n",
    "        if verbose and not i % print_every_n_generations and i > 0:\n",
    "            print(\"Generation %i \"%i, end='')\n",
    "            print(\"Best Score: \", fitness_tracking[-1])\n",
    "            print()\n",
    "            is_verbose = True\n",
    "        else:\n",
    "            is_verbose = False\n",
    "        breeders, best_guess = get_parents(current_generation, \n",
    "                                                            select_best_N=select_best_N, select_random_N=select_random_N, \n",
    "                                                            verbose=is_verbose)\n",
    "        fitness_tracking.append(fitness_score(best_guess))\n",
    "        current_generation = get_children(breeders, children_per_couple=children_per_couple)\n",
    "        best_paths.append(best_guess)\n",
    "    return fitness_tracking, best_guess, best_paths"
   ]
  },
  {
   "cell_type": "code",
   "execution_count": null,
   "metadata": {},
   "outputs": [],
   "source": [
    "def make_fitness_tracking_plot(fitness_tracking):\n",
    "    \"\"\"\n",
    "    Given a list of fitness scores, plot it versus the generation number\n",
    "    \"\"\"\n",
    "    plt.figure(figsize=(16,6))\n",
    "    plt.plot(range(len(fitness_tracking)), fitness_tracking)\n",
    "    plt.ylabel(\"Fitness Score\")\n",
    "    plt.xlabel(\"Generation\")\n",
    "    plt.title(\"Fitness Evolution\");"
   ]
  },
  {
   "cell_type": "markdown",
   "metadata": {},
   "source": [
    "### TSP Example for 40 locations"
   ]
  },
  {
   "cell_type": "code",
   "execution_count": null,
   "metadata": {
    "scrolled": false
   },
   "outputs": [],
   "source": [
    "locations = generate_locations(40)\n",
    "current_generation = create_generation(list(locations.keys()),population=300)\n",
    "fitness_tracking, best_guess, best_paths = evolve_to_solve(current_generation, 150, 100, 50, 5, 10, verbose=True)"
   ]
  },
  {
   "cell_type": "code",
   "execution_count": null,
   "metadata": {},
   "outputs": [],
   "source": [
    "make_fitness_tracking_plot(fitness_tracking)"
   ]
  },
  {
   "cell_type": "markdown",
   "metadata": {},
   "source": [
    "### Gathering Images"
   ]
  },
  {
   "cell_type": "code",
   "execution_count": null,
   "metadata": {},
   "outputs": [],
   "source": [
    "for i,each in enumerate(best_paths):\n",
    "    plot_path(locations, each, i)\n",
    "\n",
    "imgs=[]\n",
    "for i in range(len(best_paths)):\n",
    "    imgs.append(mpimg.imread(f'tsp_anim/{i}.png'))\n",
    "len(imgs)"
   ]
  },
  {
   "cell_type": "markdown",
   "metadata": {},
   "source": [
    "### Creating Animation from multiple images"
   ]
  },
  {
   "cell_type": "code",
   "execution_count": null,
   "metadata": {},
   "outputs": [],
   "source": [
    "def plot_images(img_list):\n",
    "    def init():\n",
    "        img.set_data(img_list[0])\n",
    "        return (img,)\n",
    "\n",
    "    def animate(i):\n",
    "        img.set_data(img_list[i])\n",
    "        return (img,)\n",
    "\n",
    "    fig = plt.figure(figsize=(20,8))\n",
    "    ax = fig.gca()\n",
    "    img = ax.imshow(img_list[0])\n",
    "    plt.axis('off')\n",
    "    anim = animation.FuncAnimation(fig, animate, init_func=init,\n",
    "                                 frames=len(img_list), interval=50, blit=True)\n",
    "    return anim"
   ]
  },
  {
   "cell_type": "code",
   "execution_count": null,
   "metadata": {},
   "outputs": [],
   "source": [
    "# Viewing Animation\n",
    "HTML(plot_images(imgs).to_html5_video())"
   ]
  },
  {
   "cell_type": "code",
   "execution_count": null,
   "metadata": {},
   "outputs": [],
   "source": [
    "# Controlling Animation\n",
    "HTML(plot_images(imgs).to_jshtml())"
   ]
  },
  {
   "cell_type": "code",
   "execution_count": null,
   "metadata": {},
   "outputs": [],
   "source": [
    "# Saving animation\n",
    "plot_images(imgs).save('tsp.mp4');"
   ]
  }
 ],
 "metadata": {
  "kernelspec": {
   "display_name": "Python 3",
   "language": "python",
   "name": "python3"
  },
  "language_info": {
   "codemirror_mode": {
    "name": "ipython",
    "version": 3
   },
   "file_extension": ".py",
   "mimetype": "text/x-python",
   "name": "python",
   "nbconvert_exporter": "python",
   "pygments_lexer": "ipython3",
   "version": "3.7.3"
  }
 },
 "nbformat": 4,
 "nbformat_minor": 4
}
