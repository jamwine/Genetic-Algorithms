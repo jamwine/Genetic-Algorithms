{
 "cells": [
  {
   "cell_type": "markdown",
   "metadata": {},
   "source": [
    "# String Matching"
   ]
  },
  {
   "cell_type": "markdown",
   "metadata": {},
   "source": [
    "### Describing Problem: Generating a target string starting from a random string of the same length"
   ]
  },
  {
   "cell_type": "code",
   "execution_count": null,
   "metadata": {},
   "outputs": [],
   "source": [
    "import random\n",
    "import datetime\n",
    "import matplotlib.pyplot as plt\n",
    "import matplotlib.patches as patches\n",
    "import matplotlib.image as mpimg\n",
    "from matplotlib import animation\n",
    "from IPython.display import HTML\n",
    "\n",
    "import numpy as np\n",
    "import pandas as pd\n",
    "\n",
    "%matplotlib inline"
   ]
  },
  {
   "cell_type": "markdown",
   "metadata": {},
   "source": [
    "### Genetic Functions"
   ]
  },
  {
   "cell_type": "code",
   "execution_count": null,
   "metadata": {},
   "outputs": [],
   "source": [
    "# return a random string of the specified length\n",
    "def generate_parent(length):\n",
    "    genes = []\n",
    "    while len(genes) < length:\n",
    "        sampleSize = min(length - len(genes), len(geneSet))\n",
    "        genes.extend(random.sample(geneSet, sampleSize))\n",
    "    return ''.join(genes)\n",
    "\n",
    "# returns the fitness score of the guessed string\n",
    "def get_fitness(guess):\n",
    "    return sum(1 for expected, actual in zip(target, guess) if expected == actual)\n",
    "\n",
    "# Changing a character in the parent string at random index \n",
    "def mutate(parent):\n",
    "    index = random.randrange(0, len(parent))\n",
    "    childGenes = list(parent)\n",
    "    newGene, alternate = random.sample(geneSet, 2)\n",
    "    childGenes[index] = alternate if newGene == childGenes[index] else newGene\n",
    "    return ''.join(childGenes)\n",
    "\n",
    "def display(guess,startTime):\n",
    "    timeDiff = (datetime.datetime.now() - startTime).microseconds\n",
    "    fitness = get_fitness(guess)\n",
    "    print(\"Guess: {}\\tFitness Score: {}\\tTime Taken (µs): {}\".format(guess, fitness, timeDiff))"
   ]
  },
  {
   "cell_type": "markdown",
   "metadata": {},
   "source": [
    "### Main Function"
   ]
  },
  {
   "cell_type": "code",
   "execution_count": null,
   "metadata": {},
   "outputs": [],
   "source": [
    "def predict_output(geneSet,target):\n",
    "    \n",
    "    all_childs=[] # List for storing all childs (used for plotting)\n",
    "\n",
    "    # Initial Run\n",
    "    startTime = datetime.datetime.now()\n",
    "    bestParent = generate_parent(len(target))\n",
    "    bestFitness = get_fitness(bestParent)\n",
    "    display(bestParent,startTime)\n",
    "\n",
    "    # Stopping when the guess matches result\n",
    "    i=0 # Counting total iterations\n",
    "    while True:\n",
    "        i+=1\n",
    "        child = mutate(bestParent)\n",
    "        childFitness = get_fitness(child)\n",
    "        \n",
    "        all_childs.append(child)\n",
    "        if bestFitness >= childFitness:\n",
    "            continue\n",
    "        display(child,startTime)\n",
    "        \n",
    "        if childFitness >= len(bestParent):\n",
    "            break\n",
    "        bestFitness = childFitness\n",
    "        bestParent = child\n",
    "\n",
    "    possibilities=len(set(geneSet))**len(target)\n",
    "\n",
    "    print(f'\\nTotal Possibilities: {possibilities}')\n",
    "    print(f'Total iterations: {i}')\n",
    "    print(f'Optimization over large space state: {round(((possibilities-i)/possibilities)*100,2)}%')\n",
    "    \n",
    "    return all_childs"
   ]
  },
  {
   "cell_type": "markdown",
   "metadata": {},
   "source": [
    "### Visualizing String Matching"
   ]
  },
  {
   "cell_type": "code",
   "execution_count": null,
   "metadata": {},
   "outputs": [],
   "source": [
    "def gengraph(possibilities,child,target,count):\n",
    "          \n",
    "#     for count,child in enumerate(child_list):\n",
    "    gc=0 # Green Counter\n",
    "    fig,ax=plt.subplots(1,1,figsize=(15,6))\n",
    "\n",
    "    # Getting colors for arrows\n",
    "    colors=[]\n",
    "    for i, (expected,actual) in enumerate(list(zip(target, child))):\n",
    "        if expected == actual:\n",
    "            colors.append('green')\n",
    "        else:\n",
    "            colors.append('blue')    \n",
    "\n",
    "    arrows=[]\n",
    "\n",
    "    # Getting spaces between individual characters\n",
    "    geneSet_spacing=np.linspace(0.1,0.9,len(possibilities))\n",
    "    child_spacing=np.linspace(0.3,0.7,len(child))\n",
    "\n",
    "    # Printing all characters\n",
    "    for i,x in enumerate(geneSet_spacing):\n",
    "        plt.text(x-0.005,0.8,possibilities[i],fontsize=12)\n",
    "\n",
    "    # Printing Underscores\n",
    "    for i,x in enumerate(child_spacing):\n",
    "        plt.text(x,0.25,'_',fontsize=15)\n",
    "\n",
    "    # Printing Child Characters    \n",
    "    for i,x in enumerate(child_spacing):\n",
    "        plt.text(x,0.26,child[i],fontsize=15)\n",
    "\n",
    "    # Dictionary with keys as characters and values as spacing (for getting x-coordinates to define arrows)\n",
    "    xpos=dict(zip(possibilities,geneSet_spacing))\n",
    "\n",
    "    # Defining arrows for every character of child\n",
    "    for i,x in enumerate(child):\n",
    "        if colors[i]=='green':\n",
    "            gc+=1 \n",
    "            alpha,color=0.3,'green'\n",
    "        else:\n",
    "            alpha,color=0.1, 'blue'\n",
    "        arrows.append(patches.Arrow(xpos[x],0.8,child_spacing[i]-xpos[x],-0.5,width=0.01,alpha=alpha,color=color))\n",
    "\n",
    "    for p in arrows:\n",
    "        ax.add_patch(p)\n",
    "\n",
    "\n",
    "    plt.text(0.9,0.65,f\"Fitness Score: {gc}\",fontsize=13)\n",
    "    plt.text(0.9,0.50,f\"Total iterations: {count}\",fontsize=13)\n",
    "    plt.text(0.9,0.35,f\"Current Guess: {child}\",fontsize=13)\n",
    "\n",
    "    plt.axis(False)\n",
    "    plt.savefig(f'anim/{count}_{child}.png')\n",
    "    plt.close()\n",
    "    "
   ]
  },
  {
   "cell_type": "code",
   "execution_count": null,
   "metadata": {
    "scrolled": false
   },
   "outputs": [],
   "source": [
    "geneSet = \"01\"\n",
    "target = \"1111111111\"\n",
    "\n",
    "test= predict_output(geneSet,target)"
   ]
  },
  {
   "cell_type": "code",
   "execution_count": null,
   "metadata": {
    "scrolled": false
   },
   "outputs": [],
   "source": [
    "geneSet = \"aAbBcCdDeEfFgGhHiIjJkKlLmM nNoOpPqQrRsStTuUvVwWxXyYzZ\"\n",
    "target = \"HPC Project\"\n",
    "\n",
    "test= predict_output(geneSet,target)"
   ]
  },
  {
   "cell_type": "markdown",
   "metadata": {},
   "source": [
    "### Generating Images"
   ]
  },
  {
   "cell_type": "code",
   "execution_count": null,
   "metadata": {},
   "outputs": [],
   "source": [
    "def generate_images(possibilities,child_list,target):\n",
    "    for count,child in enumerate(child_list):\n",
    "        gengraph(possibilities,child,target,count)\n",
    "#         print(count,child)"
   ]
  },
  {
   "cell_type": "code",
   "execution_count": null,
   "metadata": {
    "scrolled": false
   },
   "outputs": [],
   "source": [
    "generate_images(possibilities=geneSet,child_list=test,target=target)"
   ]
  },
  {
   "cell_type": "markdown",
   "metadata": {},
   "source": [
    "### Generating Images in Parallel"
   ]
  },
  {
   "cell_type": "code",
   "execution_count": null,
   "metadata": {},
   "outputs": [],
   "source": [
    "# import threading\n",
    "\n",
    "# threads = 4\n",
    "# jobs = []\n",
    "# for i in range(0, threads):\n",
    "#     thread = threading.Thread(target=generate_images(possibilities=geneSet,child_list=test,target=target))\n",
    "#     jobs.append(thread)\n",
    "    \n",
    "# for j in jobs:\n",
    "#     j.start()\n",
    "\n",
    "# for j in jobs:\n",
    "#     j.join()"
   ]
  },
  {
   "cell_type": "markdown",
   "metadata": {},
   "source": [
    "### Gathering Images"
   ]
  },
  {
   "cell_type": "code",
   "execution_count": null,
   "metadata": {},
   "outputs": [],
   "source": [
    "imgs=[]\n",
    "for i,each in enumerate(test):\n",
    "    imgs.append(mpimg.imread(f'anim/{i}_{each}.png'))\n",
    "len(imgs)"
   ]
  },
  {
   "cell_type": "markdown",
   "metadata": {},
   "source": [
    "### Creating Animation from multiple images"
   ]
  },
  {
   "cell_type": "code",
   "execution_count": null,
   "metadata": {},
   "outputs": [],
   "source": [
    "def plot_images(img_list):\n",
    "    def init():\n",
    "        img.set_data(img_list[0])\n",
    "        return (img,)\n",
    "\n",
    "    def animate(i):\n",
    "        img.set_data(img_list[i])\n",
    "        return (img,)\n",
    "\n",
    "    fig = plt.figure(figsize=(20,8))\n",
    "    ax = fig.gca()\n",
    "    img = ax.imshow(img_list[0])\n",
    "    plt.axis('off')\n",
    "    anim = animation.FuncAnimation(fig, animate, init_func=init,\n",
    "                                 frames=len(img_list), interval=50, blit=True)\n",
    "    return anim"
   ]
  },
  {
   "cell_type": "code",
   "execution_count": null,
   "metadata": {},
   "outputs": [],
   "source": [
    "# Viewing Animation\n",
    "HTML(plot_images(imgs).to_html5_video())"
   ]
  },
  {
   "cell_type": "code",
   "execution_count": null,
   "metadata": {},
   "outputs": [],
   "source": [
    "# Controlling Animation\n",
    "HTML(plot_images(imgs).to_jshtml())"
   ]
  },
  {
   "cell_type": "code",
   "execution_count": null,
   "metadata": {},
   "outputs": [],
   "source": [
    "# Saving animation\n",
    "plot_images(imgs).save('test.mp4');"
   ]
  }
 ],
 "metadata": {
  "kernelspec": {
   "display_name": "Python 3",
   "language": "python",
   "name": "python3"
  },
  "language_info": {
   "codemirror_mode": {
    "name": "ipython",
    "version": 3
   },
   "file_extension": ".py",
   "mimetype": "text/x-python",
   "name": "python",
   "nbconvert_exporter": "python",
   "pygments_lexer": "ipython3",
   "version": "3.7.3"
  }
 },
 "nbformat": 4,
 "nbformat_minor": 4
}
